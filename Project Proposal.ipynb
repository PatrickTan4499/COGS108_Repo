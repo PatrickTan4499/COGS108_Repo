{
 "cells": [
  {
   "cell_type": "markdown",
   "metadata": {},
   "source": [
    "# Project Proposal"
   ]
  },
  {
   "cell_type": "markdown",
   "metadata": {},
   "source": [
    "# Names\n",
    "\n",
    "- Patrick Tan\n",
    "- Caiti Johnson\n",
    "- Jay Chong\n",
    "- Anwen (Erwin) He\n"
   ]
  },
  {
   "cell_type": "markdown",
   "metadata": {},
   "source": [
    "# Group Members IDs\n",
    "\n",
    "- A14808580\n",
    "- A13471569\n",
    "- A14829753\n",
    "- A92147485\n"
   ]
  },
  {
   "cell_type": "markdown",
   "metadata": {},
   "source": [
    "# Research Question\n",
    "\n",
    "Are certain types of crime more prevalent on certain days of week in San Francisco?\n"
   ]
  },
  {
   "cell_type": "markdown",
   "metadata": {},
   "source": [
    "# Background and Prior Work\n",
    " \n",
    "    Understanding patterns of crime is crucial for police forces to maintain safety for the entire society. Numerous criminology studies have been conducted in the past to show that certain crimes are potentially conducted following temporal and spatial patterns, and thanks to development in methods of data collection and analysis, researchers and police are able to get sufficient data nowadays. We as a group are particularly interested in looking for a pattern between the frequency of specific types of crime and days within a weekly cycle. \n",
    " \n",
    "    We found an article from the Oklahoman news website that tried to answer a similar question, except that it used data collected by the Oklahoma City police department. The result suggests that cases of burglary most commonly take place on Mondays and are the least common on Sundays, while cases of assault with weapons are most common on Saturdays and least common on Thursdays. We want to take a similar approach by looking at data within the region of San Francisco to see if there is a similar pattern here.\n",
    " \n",
    "    Additionally, we found previously published work about car theft in San Francisco based on the time of day and day of the week. This research specifically focuses on car theft and focuses on the location and time of the crime, which is similar to the approach that we would want to take while doing our data science project.\n",
    "    \n",
    "    References (include links):\n",
    "1) What day of the week is crime most common? : https://oklahoman.com/article/5541042/what-day-of-the-week-is-crime-most-common\n",
    "\n",
    "2) Time of day and day of week effect the frequency but not location of theft from vehicles in San Francisco in summer 2014\n",
    "https://rpubs.com/jonprice/crime \n",
    "\n",
    "3)  San Francisco Crime Dataset https://www.kaggle.com/roshansharma/sanfranciso-crime-dataset \n",
    "\n"
   ]
  },
  {
   "cell_type": "markdown",
   "metadata": {},
   "source": [
    "# Hypothesis\n",
    "\n",
    "We hypothesize that there will be crimes that are committed on certain days more than others. This could be due to specific changes to work shifts or people that aren’t working on those days. \n"
   ]
  },
  {
   "cell_type": "markdown",
   "metadata": {},
   "source": [
    "# Data\n",
    "Explain what the ideal dataset you would want to answer this question. (This should include: What variables? How many observations? Who/what/how would these data be collected? How would these data be stored/organized?)\n",
    " \n",
    "__Variables:__ \n",
    "Total Number of Crimes\n",
    "General Crime Type: Burglary, vandalism, violence, drug, traffic offences\n",
    "Number of Crimes of each type: Burglary, vandalism, violence, drug, traffic offences\n",
    " \n",
    "__Observations:__\n",
    "\tDays of the week\n",
    " \n",
    "We will use data gathered online from existing datasets about crime occurrences in order to explore and create our analysis. The data we found was stored in a .csv file, which we can gather data from since it is in a tidy data format. We can then store and organize our data in using pandas, numpy, and matplot in order to reorganize our data into a tidier format and create visualisations for our exploration of the data.\n"
   ]
  },
  {
   "cell_type": "markdown",
   "metadata": {},
   "source": [
    "# Ethics & Privacy\n",
    "\n",
    " \n",
    "Since we are not gathering data from specific users we don’t think we will run into issues with exposing sensitive user data, however; if we find a correlation between a specific day and a crime, people may find that a specific day would be the best day to commit a crime. Furthermore, they may misuse our data and try to commit crimes on days where security may be more relaxed since less crimes occur on a specific day.\n"
   ]
  },
  {
   "cell_type": "markdown",
   "metadata": {},
   "source": [
    "# Team Expectations\n",
    "\n",
    "1) Complete your own portion of work in a timely manner\n",
    "\n",
    "2) Be respectful when you disagree with one another\n",
    "\n",
    "3) Define your objectives and goals for the week\n",
    "\n",
    "4) Cooperate with each other\n"
   ]
  },
  {
   "cell_type": "markdown",
   "metadata": {},
   "source": [
    "# Project Timeline Proposal\n",
    "\n",
    "| Meeting Date  | Meeting Time| Completed Before Meeting  | Discuss at Meeting |\n",
    "|---|---|---|---|\n",
    "| 4/22  |  7 PM | Read & Think about COGS 108 expectations; brainstorm topics/questions  | Determine best form of communication; Discuss and decide on final project topic; discuss hypothesis; begin background research | \n",
    "| 4/23  |  7 PM |  Do background research on topic | Discuss ideal dataset(s) and ethics; draft project proposal | \n",
    "| 4/24  | 7 PM  | Edit, finalize, and submit proposal; Search for datasets  | Discuss Wrangling and possible analytical approaches; Assign group members to lead each specific part   |\n",
    "| 4/27  | 7 PM  | Import & Wrangle Data (Ant Man); EDA (Hulk) | Review/Edit wrangling/EDA; Discuss Analysis Plan   |\n",
    "| 4/29  | 7 PM  | Finalize wrangling/EDA; Begin Analysis (Iron Man; Thor) | Discuss/edit Analysis; Complete project check-in |\n",
    "| 5/06  | 7 PM  | Complete analysis; Draft results/conclusion/discussion (Wasp)| Discuss/edit full project |\n",
    "| 6/10  | Before 11:59 PM  | NA | Turn in Final Project & Group Project Surveys |\n"
   ]
  },
  {
   "cell_type": "code",
   "execution_count": null,
   "metadata": {},
   "outputs": [],
   "source": []
  }
 ],
 "metadata": {
  "kernelspec": {
   "display_name": "Python 3",
   "language": "python",
   "name": "python3"
  },
  "language_info": {
   "codemirror_mode": {
    "name": "ipython",
    "version": 3
   },
   "file_extension": ".py",
   "mimetype": "text/x-python",
   "name": "python",
   "nbconvert_exporter": "python",
   "pygments_lexer": "ipython3",
   "version": "3.6.7"
  }
 },
 "nbformat": 4,
 "nbformat_minor": 2
}
